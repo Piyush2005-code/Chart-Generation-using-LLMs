{
 "cells": [
  {
   "cell_type": "code",
   "execution_count": 16,
   "id": "84591b7f",
   "metadata": {},
   "outputs": [
    {
     "name": "stdout",
     "output_type": "stream",
     "text": [
      "---\n",
      "title: Little Women\n",
      "---\n",
      "graph TD\n",
      "meg[\"Meg\"]\n",
      "jo[\"Jo\"]\n",
      "beth[\"Beth\"]\n",
      "amy[\"Amy\"]\n",
      "robert_march[\"Robert March\"]\n",
      "robert_march ---> meg\n",
      "robert_march ---> jo\n",
      "robert_march ---> beth\n",
      "robert_march ---> amy\n"
     ]
    }
   ],
   "source": [
    "# Creating a simple flowchart diagram\n",
    "from python_mermaid.diagram import (\n",
    "    MermaidDiagram,\n",
    "    Node,\n",
    "    Link\n",
    ")\n",
    "\n",
    "# Family members\n",
    "meg = Node(\"Meg\")\n",
    "jo = Node(\"Jo\")\n",
    "beth = Node(\"Beth\")\n",
    "amy = Node(\"Amy\")\n",
    "robert = Node(\"Robert March\")\n",
    "\n",
    "the_march_family = [meg, jo, beth, amy, robert]\n",
    "\n",
    "# Create links\n",
    "family_links = [\n",
    "    Link(robert, meg),\n",
    "    Link(robert, jo),\n",
    "    Link(robert, beth),\n",
    "    Link(robert, amy),\n",
    "]\n",
    "\n",
    "chart = MermaidDiagram(\n",
    "    title=\"Little Women\",\n",
    "    nodes=the_march_family,\n",
    "    links=family_links\n",
    ")\n",
    "\n",
    "print(chart)"
   ]
  },
  {
   "cell_type": "code",
   "execution_count": 25,
   "id": "6859f32d",
   "metadata": {},
   "outputs": [
    {
     "ename": "TypeError",
     "evalue": "Diagram.__init__() got multiple values for argument 'title'",
     "output_type": "error",
     "traceback": [
      "\u001b[31m---------------------------------------------------------------------------\u001b[39m",
      "\u001b[31mTypeError\u001b[39m                                 Traceback (most recent call last)",
      "\u001b[36mCell\u001b[39m\u001b[36m \u001b[39m\u001b[32mIn[25]\u001b[39m\u001b[32m, line 14\u001b[39m\n\u001b[32m      1\u001b[39m \u001b[38;5;28;01mfrom\u001b[39;00m\u001b[38;5;250m \u001b[39m\u001b[34;01mpython_mermaid\u001b[39;00m\u001b[34;01m.\u001b[39;00m\u001b[34;01mdiagram\u001b[39;00m\u001b[38;5;250m \u001b[39m\u001b[38;5;28;01mimport\u001b[39;00m MermaidDiagram\n\u001b[32m      3\u001b[39m state_diagram = \u001b[33m\"\"\"\u001b[39m\n\u001b[32m      4\u001b[39m \u001b[33mstateDiagram-v2\u001b[39m\n\u001b[32m      5\u001b[39m \u001b[33m    [*] --> Still\u001b[39m\n\u001b[32m   (...)\u001b[39m\u001b[32m     11\u001b[39m \u001b[33m    Crash --> [*]\u001b[39m\n\u001b[32m     12\u001b[39m \u001b[33m\"\"\"\u001b[39m\n\u001b[32m---> \u001b[39m\u001b[32m14\u001b[39m diagram = \u001b[43mMermaidDiagram\u001b[49m\u001b[43m(\u001b[49m\u001b[43mstate_diagram\u001b[49m\u001b[43m,\u001b[49m\u001b[43m \u001b[49m\u001b[43mtitle\u001b[49m\u001b[43m=\u001b[49m\u001b[33;43m\"\u001b[39;49m\u001b[33;43mState Diagram\u001b[39;49m\u001b[33;43m\"\u001b[39;49m\u001b[43m)\u001b[49m\n\u001b[32m     15\u001b[39m \u001b[38;5;28mprint\u001b[39m(diagram)\n",
      "\u001b[31mTypeError\u001b[39m: Diagram.__init__() got multiple values for argument 'title'"
     ]
    }
   ],
   "source": [
    "from python_mermaid.diagram import MermaidDiagram\n",
    "\n",
    "state_diagram = \"\"\"\n",
    "stateDiagram-v2\n",
    "    [*] --> Still\n",
    "    Still --> [*]\n",
    "\n",
    "    Still --> Moving\n",
    "    Moving --> Still\n",
    "    Moving --> Crash\n",
    "    Crash --> [*]\n",
    "\"\"\"\n",
    "\n",
    "diagram = MermaidDiagram(state_diagram, title=\"State Diagram\")\n",
    "print(diagram)"
   ]
  },
  {
   "cell_type": "code",
   "execution_count": null,
   "id": "e026c88d",
   "metadata": {},
   "outputs": [],
   "source": [
    "flowchart TD;\n",
    "    A-->B;\n",
    "    A-->C;\n",
    "    B-->D;\n",
    "    C-->D;\n",
    "    D-->E; \n",
    "```"
   ]
  }
 ],
 "metadata": {
  "kernelspec": {
   "display_name": ".venv (3.13.7)",
   "language": "python",
   "name": "python3"
  },
  "language_info": {
   "codemirror_mode": {
    "name": "ipython",
    "version": 3
   },
   "file_extension": ".py",
   "mimetype": "text/x-python",
   "name": "python",
   "nbconvert_exporter": "python",
   "pygments_lexer": "ipython3",
   "version": "3.13.7"
  }
 },
 "nbformat": 4,
 "nbformat_minor": 5
}
